{
 "cells": [
  {
   "cell_type": "code",
   "execution_count": 1,
   "id": "dc8cc149-7de2-4efb-8462-fbd831399882",
   "metadata": {},
   "outputs": [
    {
     "data": {
      "text/plain": [
       "'/Users/nsr8/Library/jupyterlab-desktop/jlab_server/bin/python'"
      ]
     },
     "execution_count": 1,
     "metadata": {},
     "output_type": "execute_result"
    }
   ],
   "source": [
    "import sys\n",
    "sys.executable"
   ]
  },
  {
   "cell_type": "code",
   "execution_count": 2,
   "id": "0a334cc9-00f5-42c7-9a81-aa7250b5460c",
   "metadata": {},
   "outputs": [
    {
     "name": "stdout",
     "output_type": "stream",
     "text": [
      "Collecting networkx\n",
      "  Downloading networkx-2.8.4-py3-none-any.whl (2.0 MB)\n",
      "\u001b[2K     \u001b[90m━━━━━━━━━━━━━━━━━━━━━━━━━━━━━━━━━━━━━━━━\u001b[0m \u001b[32m2.0/2.0 MB\u001b[0m \u001b[31m4.3 MB/s\u001b[0m eta \u001b[36m0:00:00\u001b[0m00:01\u001b[0m00:01\u001b[0m\n",
      "\u001b[?25hInstalling collected packages: networkx\n",
      "Successfully installed networkx-2.8.4\n"
     ]
    }
   ],
   "source": [
    "!pip install networkx"
   ]
  },
  {
   "cell_type": "code",
   "execution_count": 3,
   "id": "a9a1bfb7-8ea4-4aa0-96d3-9608eb291ea3",
   "metadata": {},
   "outputs": [
    {
     "name": "stdout",
     "output_type": "stream",
     "text": [
      "Collecting graphviz\n",
      "  Downloading graphviz-0.20-py3-none-any.whl (46 kB)\n",
      "\u001b[2K     \u001b[90m━━━━━━━━━━━━━━━━━━━━━━━━━━━━━━━━━━━━━━━\u001b[0m \u001b[32m47.0/47.0 KB\u001b[0m \u001b[31m967.7 kB/s\u001b[0m eta \u001b[36m0:00:00\u001b[0m \u001b[36m0:00:01\u001b[0m\n",
      "\u001b[?25hInstalling collected packages: graphviz\n",
      "Successfully installed graphviz-0.20\n"
     ]
    }
   ],
   "source": [
    "!pip install graphviz\n"
   ]
  },
  {
   "cell_type": "code",
   "execution_count": 5,
   "id": "58eac743-7309-40dc-a535-9fd4a743d66f",
   "metadata": {},
   "outputs": [
    {
     "name": "stdout",
     "output_type": "stream",
     "text": [
      "Collecting python-igraph\n",
      "  Downloading python-igraph-0.9.11.tar.gz (9.5 kB)\n",
      "  Preparing metadata (setup.py) ... \u001b[?25ldone\n",
      "\u001b[?25hCollecting igraph==0.9.11\n",
      "  Downloading igraph-0.9.11-1-cp38-cp38-macosx_10_9_x86_64.whl (2.0 MB)\n",
      "\u001b[2K     \u001b[90m━━━━━━━━━━━━━━━━━━━━━━━━━━━━━━━━━━━━━━━━\u001b[0m \u001b[32m2.0/2.0 MB\u001b[0m \u001b[31m4.3 MB/s\u001b[0m eta \u001b[36m0:00:00\u001b[0ma \u001b[36m0:00:01\u001b[0m\n",
      "\u001b[?25hCollecting texttable>=1.6.2\n",
      "  Downloading texttable-1.6.4-py2.py3-none-any.whl (10 kB)\n",
      "Building wheels for collected packages: python-igraph\n",
      "  Building wheel for python-igraph (setup.py) ... \u001b[?25ldone\n",
      "\u001b[?25h  Created wheel for python-igraph: filename=python_igraph-0.9.11-py3-none-any.whl size=9074 sha256=b92eda2a79eca862012764e78bc2c62b43d2a96d31217cafa9a9660c26dd4706\n",
      "  Stored in directory: /Users/nsr8/Library/Caches/pip/wheels/80/cc/db/88e7da87ff0cc3d1f311760bdaea8d531c2b209ec19dfda13c\n",
      "Successfully built python-igraph\n",
      "Installing collected packages: texttable, igraph, python-igraph\n",
      "Successfully installed igraph-0.9.11 python-igraph-0.9.11 texttable-1.6.4\n"
     ]
    }
   ],
   "source": [
    "!pip install python-igraph\n"
   ]
  },
  {
   "cell_type": "code",
   "execution_count": 4,
   "id": "cf8a7db9-8af8-44ee-a9f0-b76d4ef153ac",
   "metadata": {},
   "outputs": [
    {
     "name": "stdout",
     "output_type": "stream",
     "text": [
      "Collecting cgraph\n",
      "  Downloading cGraph-0.1.tar.gz (3.0 kB)\n",
      "  Preparing metadata (setup.py) ... \u001b[?25ldone\n",
      "\u001b[?25hBuilding wheels for collected packages: cgraph\n",
      "  Building wheel for cgraph (setup.py) ... \u001b[?25ldone\n",
      "\u001b[?25h  Created wheel for cgraph: filename=cGraph-0.1-cp38-cp38-macosx_10_9_x86_64.whl size=4465 sha256=b31b899e4a78f3f26fca064dcd8bb6fcb10231d5dda3e73a18d65a867f265219\n",
      "  Stored in directory: /Users/nsr8/Library/Caches/pip/wheels/74/b6/53/eb88c2976b2a6f4a7bf1a087e49606912b08db16ae751b8cdf\n",
      "Successfully built cgraph\n",
      "Installing collected packages: cgraph\n",
      "Successfully installed cgraph-0.1\n"
     ]
    }
   ],
   "source": [
    "!pip install cgraph"
   ]
  },
  {
   "cell_type": "code",
   "execution_count": 8,
   "id": "2d0ab49f-4cbf-4ee0-9632-71ff93947515",
   "metadata": {},
   "outputs": [
    {
     "name": "stdout",
     "output_type": "stream",
     "text": [
      "csh(98603,0x204601e00) malloc: can't allocate region\n",
      ":*** mach_vm_map(size=1048576, flags: 100) failed (error code=268435465)\n",
      "csh(98603,0x204601e00) malloc: *** set a breakpoint in malloc_error_break to debug\n",
      "Out of memory\n"
     ]
    }
   ],
   "source": [
    "!export PKG_CONFIG_PATH=/usr/local/lib/pkgconfig "
   ]
  },
  {
   "cell_type": "code",
   "execution_count": null,
   "id": "71ef80fb-5468-4bdd-aa49-16027694c3a1",
   "metadata": {},
   "outputs": [],
   "source": []
  }
 ],
 "metadata": {
  "kernelspec": {
   "display_name": "Python 3 (ipykernel)",
   "language": "python",
   "name": "python3"
  },
  "language_info": {
   "codemirror_mode": {
    "name": "ipython",
    "version": 3
   },
   "file_extension": ".py",
   "mimetype": "text/x-python",
   "name": "python",
   "nbconvert_exporter": "python",
   "pygments_lexer": "ipython3",
   "version": "3.8.13"
  }
 },
 "nbformat": 4,
 "nbformat_minor": 5
}
